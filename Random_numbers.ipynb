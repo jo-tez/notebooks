{
 "cells": [
  {
   "cell_type": "markdown",
   "metadata": {},
   "source": [
    "# Monte-Carlo simulation model"
   ]
  },
  {
   "cell_type": "code",
   "execution_count": 1,
   "metadata": {
    "collapsed": true,
    "deletable": true,
    "editable": true
   },
   "outputs": [],
   "source": [
    "%matplotlib inline"
   ]
  },
  {
   "cell_type": "code",
   "execution_count": 2,
   "metadata": {
    "collapsed": true,
    "deletable": true,
    "editable": true
   },
   "outputs": [],
   "source": [
    "import numpy as np\n",
    "import numpy.random as npr\n",
    "import pandas as pd\n",
    "import matplotlib.pyplot as plt\n",
    "import matplotlib.pylab as pl\n",
    "import seaborn as sns\n",
    "import faker\n",
    "import isodate"
   ]
  },
  {
   "cell_type": "code",
   "execution_count": 78,
   "metadata": {
    "collapsed": false
   },
   "outputs": [],
   "source": [
    "plt.style.use('ggplot')"
   ]
  },
  {
   "cell_type": "markdown",
   "metadata": {},
   "source": [
    "## Generate test data"
   ]
  },
  {
   "cell_type": "code",
   "execution_count": 5,
   "metadata": {
    "collapsed": true,
    "deletable": true,
    "editable": true
   },
   "outputs": [],
   "source": [
    "fk = faker.Factory.create()"
   ]
  },
  {
   "cell_type": "code",
   "execution_count": 113,
   "metadata": {
    "collapsed": false,
    "deletable": true,
    "editable": true
   },
   "outputs": [],
   "source": [
    "npr.seed(1)\n",
    "n_recs = 110\n",
    "data = []\n",
    "for i in range(n_recs):\n",
    "    payband = int(npr.choice([1, 2, 3], p=[0.7, 0.25, 0.05]))\n",
    "    salary = 0\n",
    "    if payband==1:\n",
    "        salary = fk.random_int(min=60000, max=118000)\n",
    "    elif payband==2:\n",
    "        salary = fk.random_int(min=87000, max=160000)\n",
    "    else:\n",
    "        salary = fk.random_int(min=105000, max=200000)\n",
    "    fte = npr.choice([1, 0.8, 0.6], p=[0.95, 0.025, 0.025])\n",
    "    record = {\n",
    "        'emp_id': i+1,\n",
    "        'name': '{}, {}'.format(fk.last_name(), fk.first_name()),\n",
    "        'hire_date': isodate.parse_date(fk.date()),\n",
    "        'payband': payband,\n",
    "        'salary': salary,\n",
    "        'fte': fte\n",
    "    }\n",
    "    data.append(record)\n",
    "# Reset seed to be truly random\n",
    "npr.seed()"
   ]
  },
  {
   "cell_type": "code",
   "execution_count": 114,
   "metadata": {
    "collapsed": false,
    "deletable": true,
    "editable": true,
    "scrolled": false
   },
   "outputs": [
    {
     "data": {
      "text/html": [
       "<div>\n",
       "<table border=\"1\" class=\"dataframe\">\n",
       "  <thead>\n",
       "    <tr style=\"text-align: right;\">\n",
       "      <th></th>\n",
       "      <th>name</th>\n",
       "      <th>hire_date</th>\n",
       "      <th>payband</th>\n",
       "      <th>salary</th>\n",
       "      <th>fte</th>\n",
       "    </tr>\n",
       "    <tr>\n",
       "      <th>emp_id</th>\n",
       "      <th></th>\n",
       "      <th></th>\n",
       "      <th></th>\n",
       "      <th></th>\n",
       "      <th></th>\n",
       "    </tr>\n",
       "  </thead>\n",
       "  <tbody>\n",
       "    <tr>\n",
       "      <th>1</th>\n",
       "      <td>Cooper, Kristin</td>\n",
       "      <td>1976-06-07</td>\n",
       "      <td>1</td>\n",
       "      <td>87866</td>\n",
       "      <td>1.0</td>\n",
       "    </tr>\n",
       "    <tr>\n",
       "      <th>2</th>\n",
       "      <td>Mckinney, Sarah</td>\n",
       "      <td>2003-02-18</td>\n",
       "      <td>1</td>\n",
       "      <td>81221</td>\n",
       "      <td>1.0</td>\n",
       "    </tr>\n",
       "    <tr>\n",
       "      <th>3</th>\n",
       "      <td>Clark, Evan</td>\n",
       "      <td>1977-02-09</td>\n",
       "      <td>1</td>\n",
       "      <td>100527</td>\n",
       "      <td>1.0</td>\n",
       "    </tr>\n",
       "    <tr>\n",
       "      <th>4</th>\n",
       "      <td>Key, Jennifer</td>\n",
       "      <td>1999-03-09</td>\n",
       "      <td>1</td>\n",
       "      <td>113542</td>\n",
       "      <td>1.0</td>\n",
       "    </tr>\n",
       "    <tr>\n",
       "      <th>5</th>\n",
       "      <td>Garrett, Lauren</td>\n",
       "      <td>2010-12-08</td>\n",
       "      <td>1</td>\n",
       "      <td>89731</td>\n",
       "      <td>1.0</td>\n",
       "    </tr>\n",
       "  </tbody>\n",
       "</table>\n",
       "</div>"
      ],
      "text/plain": [
       "                   name  hire_date payband  salary  fte\n",
       "emp_id                                                 \n",
       "1       Cooper, Kristin 1976-06-07       1   87866  1.0\n",
       "2       Mckinney, Sarah 2003-02-18       1   81221  1.0\n",
       "3           Clark, Evan 1977-02-09       1  100527  1.0\n",
       "4         Key, Jennifer 1999-03-09       1  113542  1.0\n",
       "5       Garrett, Lauren 2010-12-08       1   89731  1.0"
      ]
     },
     "execution_count": 114,
     "metadata": {},
     "output_type": "execute_result"
    }
   ],
   "source": [
    "df = pd.DataFrame(data)\n",
    "df.set_index('emp_id', inplace=True)\n",
    "df['hire_date'] = pd.to_datetime(df.hire_date)\n",
    "df['payband'] = df.payband.astype('category', categories=[1,2,3], ordered=True)\n",
    "df = df[['name', 'hire_date', 'payband', 'salary', 'fte']]\n",
    "df[:5]"
   ]
  },
  {
   "cell_type": "code",
   "execution_count": 61,
   "metadata": {
    "collapsed": false,
    "scrolled": true
   },
   "outputs": [
    {
     "name": "stdout",
     "output_type": "stream",
     "text": [
      "<class 'pandas.core.frame.DataFrame'>\n",
      "Int64Index: 110 entries, 1 to 110\n",
      "Data columns (total 5 columns):\n",
      "name         110 non-null object\n",
      "hire_date    110 non-null datetime64[ns]\n",
      "payband      110 non-null category\n",
      "salary       110 non-null int64\n",
      "fte          110 non-null float64\n",
      "dtypes: category(1), datetime64[ns](1), float64(1), int64(1), object(1)\n",
      "memory usage: 4.4+ KB\n"
     ]
    }
   ],
   "source": [
    "df.info()"
   ]
  },
  {
   "cell_type": "markdown",
   "metadata": {},
   "source": [
    "## Overview analysis"
   ]
  },
  {
   "cell_type": "code",
   "execution_count": 287,
   "metadata": {
    "collapsed": false,
    "deletable": true,
    "editable": true
   },
   "outputs": [
    {
     "data": {
      "text/html": [
       "<div>\n",
       "<table border=\"1\" class=\"dataframe\">\n",
       "  <thead>\n",
       "    <tr>\n",
       "      <th></th>\n",
       "      <th colspan=\"4\" halign=\"left\">salary</th>\n",
       "      <th colspan=\"2\" halign=\"left\">fte</th>\n",
       "    </tr>\n",
       "    <tr>\n",
       "      <th></th>\n",
       "      <th>sum</th>\n",
       "      <th>amin</th>\n",
       "      <th>amax</th>\n",
       "      <th>median</th>\n",
       "      <th>sum</th>\n",
       "      <th>count</th>\n",
       "    </tr>\n",
       "    <tr>\n",
       "      <th>payband</th>\n",
       "      <th></th>\n",
       "      <th></th>\n",
       "      <th></th>\n",
       "      <th></th>\n",
       "      <th></th>\n",
       "      <th></th>\n",
       "    </tr>\n",
       "  </thead>\n",
       "  <tbody>\n",
       "    <tr>\n",
       "      <th>1</th>\n",
       "      <td>7128538</td>\n",
       "      <td>60025</td>\n",
       "      <td>117775</td>\n",
       "      <td>85282</td>\n",
       "      <td>79.4</td>\n",
       "      <td>81</td>\n",
       "    </tr>\n",
       "    <tr>\n",
       "      <th>2</th>\n",
       "      <td>3117195</td>\n",
       "      <td>87688</td>\n",
       "      <td>159242</td>\n",
       "      <td>125656</td>\n",
       "      <td>24.8</td>\n",
       "      <td>25</td>\n",
       "    </tr>\n",
       "    <tr>\n",
       "      <th>3</th>\n",
       "      <td>569911</td>\n",
       "      <td>119317</td>\n",
       "      <td>167403</td>\n",
       "      <td>141595</td>\n",
       "      <td>4.0</td>\n",
       "      <td>4</td>\n",
       "    </tr>\n",
       "  </tbody>\n",
       "</table>\n",
       "</div>"
      ],
      "text/plain": [
       "          salary                           fte      \n",
       "             sum    amin    amax  median   sum count\n",
       "payband                                             \n",
       "1        7128538   60025  117775   85282  79.4    81\n",
       "2        3117195   87688  159242  125656  24.8    25\n",
       "3         569911  119317  167403  141595   4.0     4"
      ]
     },
     "execution_count": 287,
     "metadata": {},
     "output_type": "execute_result"
    }
   ],
   "source": [
    "payband_stats = df.groupby(['payband'])['salary','fte'].aggregate({'salary': [np.sum, np.min, np.max, np.median],\n",
    "                                                                   'fte': [np.sum, 'count']})\n",
    "payband_stats"
   ]
  },
  {
   "cell_type": "code",
   "execution_count": 119,
   "metadata": {
    "collapsed": false
   },
   "outputs": [
    {
     "name": "stdout",
     "output_type": "stream",
     "text": [
      "Est Paybill: £10,815,644\n"
     ]
    }
   ],
   "source": [
    "print('Est Paybill: £{:,}'.format(df.salary.sum()))"
   ]
  },
  {
   "cell_type": "code",
   "execution_count": 286,
   "metadata": {
    "collapsed": false,
    "deletable": true,
    "editable": true,
    "scrolled": false
   },
   "outputs": [
    {
     "data": {
      "text/plain": [
       "<matplotlib.axes._subplots.AxesSubplot at 0x11505ab38>"
      ]
     },
     "execution_count": 286,
     "metadata": {},
     "output_type": "execute_result"
    },
    {
     "data": {
      "image/png": "[encoded data removed]",
      "text/plain": [
       "<matplotlib.figure.Figure at 0x1153d0048>"
      ]
     },
     "metadata": {},
     "output_type": "display_data"
    }
   ],
   "source": [
    "sns.boxplot(x='payband', y='salary', data=df)"
   ]
  },
  {
   "cell_type": "markdown",
   "metadata": {},
   "source": [
    "## Random number generation"
   ]
  },
  {
   "cell_type": "code",
   "execution_count": 121,
   "metadata": {
    "collapsed": true,
    "deletable": true,
    "editable": true
   },
   "outputs": [],
   "source": [
    "# Generate random number according to the specified probability distribution\n",
    "def _generate_random(n=1):\n",
    "    r_n = npr.choice(3, n, p=[.25, .65, .10])\n",
    "    return r_n + 1"
   ]
  },
  {
   "cell_type": "code",
   "execution_count": 320,
   "metadata": {
    "collapsed": false,
    "deletable": true,
    "editable": true
   },
   "outputs": [
    {
     "data": {
      "text/html": [
       "<div>\n",
       "<table border=\"1\" class=\"dataframe\">\n",
       "  <thead>\n",
       "    <tr style=\"text-align: right;\">\n",
       "      <th></th>\n",
       "      <th>name</th>\n",
       "      <th>hire_date</th>\n",
       "      <th>payband</th>\n",
       "      <th>salary</th>\n",
       "      <th>fte</th>\n",
       "      <th>random_group</th>\n",
       "    </tr>\n",
       "    <tr>\n",
       "      <th>emp_id</th>\n",
       "      <th></th>\n",
       "      <th></th>\n",
       "      <th></th>\n",
       "      <th></th>\n",
       "      <th></th>\n",
       "      <th></th>\n",
       "    </tr>\n",
       "  </thead>\n",
       "  <tbody>\n",
       "    <tr>\n",
       "      <th>1</th>\n",
       "      <td>Cooper, Kristin</td>\n",
       "      <td>1976-06-07</td>\n",
       "      <td>1</td>\n",
       "      <td>87866</td>\n",
       "      <td>1.0</td>\n",
       "      <td>2</td>\n",
       "    </tr>\n",
       "    <tr>\n",
       "      <th>2</th>\n",
       "      <td>Mckinney, Sarah</td>\n",
       "      <td>2003-02-18</td>\n",
       "      <td>1</td>\n",
       "      <td>81221</td>\n",
       "      <td>1.0</td>\n",
       "      <td>2</td>\n",
       "    </tr>\n",
       "    <tr>\n",
       "      <th>3</th>\n",
       "      <td>Clark, Evan</td>\n",
       "      <td>1977-02-09</td>\n",
       "      <td>1</td>\n",
       "      <td>100527</td>\n",
       "      <td>1.0</td>\n",
       "      <td>1</td>\n",
       "    </tr>\n",
       "    <tr>\n",
       "      <th>4</th>\n",
       "      <td>Key, Jennifer</td>\n",
       "      <td>1999-03-09</td>\n",
       "      <td>1</td>\n",
       "      <td>113542</td>\n",
       "      <td>1.0</td>\n",
       "      <td>2</td>\n",
       "    </tr>\n",
       "    <tr>\n",
       "      <th>5</th>\n",
       "      <td>Garrett, Lauren</td>\n",
       "      <td>2010-12-08</td>\n",
       "      <td>1</td>\n",
       "      <td>89731</td>\n",
       "      <td>1.0</td>\n",
       "      <td>2</td>\n",
       "    </tr>\n",
       "  </tbody>\n",
       "</table>\n",
       "</div>"
      ],
      "text/plain": [
       "                   name  hire_date payband  salary  fte  random_group\n",
       "emp_id                                                               \n",
       "1       Cooper, Kristin 1976-06-07       1   87866  1.0             2\n",
       "2       Mckinney, Sarah 2003-02-18       1   81221  1.0             2\n",
       "3           Clark, Evan 1977-02-09       1  100527  1.0             1\n",
       "4         Key, Jennifer 1999-03-09       1  113542  1.0             2\n",
       "5       Garrett, Lauren 2010-12-08       1   89731  1.0             2"
      ]
     },
     "execution_count": 320,
     "metadata": {},
     "output_type": "execute_result"
    }
   ],
   "source": [
    "# Assign random group\n",
    "df['random_group'] = _generate_random(n_recs)\n",
    "df[:5]"
   ]
  },
  {
   "cell_type": "code",
   "execution_count": 363,
   "metadata": {
    "collapsed": false,
    "scrolled": false
   },
   "outputs": [
    {
     "data": {
      "text/html": [
       "<div>\n",
       "<table border=\"1\" class=\"dataframe\">\n",
       "  <thead>\n",
       "    <tr style=\"text-align: right;\">\n",
       "      <th></th>\n",
       "      <th>total</th>\n",
       "      <th>percent</th>\n",
       "    </tr>\n",
       "    <tr>\n",
       "      <th>random_group</th>\n",
       "      <th></th>\n",
       "      <th></th>\n",
       "    </tr>\n",
       "  </thead>\n",
       "  <tbody>\n",
       "    <tr>\n",
       "      <th>1</th>\n",
       "      <td>29</td>\n",
       "      <td>0.263636</td>\n",
       "    </tr>\n",
       "    <tr>\n",
       "      <th>2</th>\n",
       "      <td>71</td>\n",
       "      <td>0.645455</td>\n",
       "    </tr>\n",
       "    <tr>\n",
       "      <th>3</th>\n",
       "      <td>10</td>\n",
       "      <td>0.090909</td>\n",
       "    </tr>\n",
       "  </tbody>\n",
       "</table>\n",
       "</div>"
      ],
      "text/plain": [
       "              total   percent\n",
       "random_group                 \n",
       "1                29  0.263636\n",
       "2                71  0.645455\n",
       "3                10  0.090909"
      ]
     },
     "execution_count": 363,
     "metadata": {},
     "output_type": "execute_result"
    }
   ],
   "source": [
    "group_totals = df.groupby('random_group')['salary'].aggregate({'total': np.size})\n",
    "group_totals['percent'] = group_totals.total/sum(group_totals.total)\n",
    "group_totals"
   ]
  },
  {
   "cell_type": "markdown",
   "metadata": {},
   "source": [
    "## Pay uplift"
   ]
  },
  {
   "cell_type": "markdown",
   "metadata": {},
   "source": [
    "### New pay ranges"
   ]
  },
  {
   "cell_type": "code",
   "execution_count": 326,
   "metadata": {
    "collapsed": false,
    "deletable": true,
    "editable": true,
    "scrolled": false
   },
   "outputs": [
    {
     "data": {
      "text/html": [
       "<div>\n",
       "<table border=\"1\" class=\"dataframe\">\n",
       "  <thead>\n",
       "    <tr style=\"text-align: right;\">\n",
       "      <th></th>\n",
       "      <th>max</th>\n",
       "      <th>min</th>\n",
       "      <th>midpoint</th>\n",
       "    </tr>\n",
       "    <tr>\n",
       "      <th>payband</th>\n",
       "      <th></th>\n",
       "      <th></th>\n",
       "      <th></th>\n",
       "    </tr>\n",
       "  </thead>\n",
       "  <tbody>\n",
       "    <tr>\n",
       "      <th>1</th>\n",
       "      <td>118000</td>\n",
       "      <td>69000</td>\n",
       "      <td>93500.0</td>\n",
       "    </tr>\n",
       "    <tr>\n",
       "      <th>2</th>\n",
       "      <td>163000</td>\n",
       "      <td>87000</td>\n",
       "      <td>125000.0</td>\n",
       "    </tr>\n",
       "    <tr>\n",
       "      <th>3</th>\n",
       "      <td>208100</td>\n",
       "      <td>105000</td>\n",
       "      <td>156550.0</td>\n",
       "    </tr>\n",
       "  </tbody>\n",
       "</table>\n",
       "</div>"
      ],
      "text/plain": [
       "            max     min  midpoint\n",
       "payband                          \n",
       "1        118000   69000   93500.0\n",
       "2        163000   87000  125000.0\n",
       "3        208100  105000  156550.0"
      ]
     },
     "execution_count": 326,
     "metadata": {},
     "output_type": "execute_result"
    }
   ],
   "source": [
    "new_ranges = pd.DataFrame({\n",
    "    'payband': [1, 2, 3],\n",
    "    'min': [69000, 87000, 105000],\n",
    "    'max': [118000, 163000, 208100]\n",
    "    })\n",
    "new_ranges.set_index('payband', inplace=True)\n",
    "new_ranges['midpoint'] = (new_ranges['max'] + new_ranges['min']) / 2\n",
    "new_ranges"
   ]
  },
  {
   "cell_type": "code",
   "execution_count": 327,
   "metadata": {
    "collapsed": false,
    "scrolled": false
   },
   "outputs": [],
   "source": [
    "# Eligible for uplift to new Min\n",
    "uplift_df = df[(df['random_group'] < 3) & (df['hire_date'] < isodate.parse_date('2017-01-01'))]"
   ]
  },
  {
   "cell_type": "code",
   "execution_count": 328,
   "metadata": {
    "collapsed": false
   },
   "outputs": [],
   "source": [
    "def _apply_pay_uplift(row):\n",
    "    pb = int(row.payband)\n",
    "    new_min = new_ranges.get_value(pb, 'min')\n",
    "    if new_min > row.salary:\n",
    "        return new_min\n",
    "    else:\n",
    "        return row.salary"
   ]
  },
  {
   "cell_type": "code",
   "execution_count": 329,
   "metadata": {
    "collapsed": false,
    "scrolled": true
   },
   "outputs": [
    {
     "name": "stderr",
     "output_type": "stream",
     "text": [
      "/Users/Joachim/.virtualenvs/pydev/lib/python3.6/site-packages/ipykernel/__main__.py:3: SettingWithCopyWarning: \n",
      "A value is trying to be set on a copy of a slice from a DataFrame.\n",
      "Try using .loc[row_indexer,col_indexer] = value instead\n",
      "\n",
      "See the caveats in the documentation: http://pandas.pydata.org/pandas-docs/stable/indexing.html#indexing-view-versus-copy\n",
      "  app.launch_new_instance()\n"
     ]
    }
   ],
   "source": [
    "# Create new salary column \n",
    "# uplift_df = uplift_df.assign(new_salary=lambda df: df.salary)\n",
    "uplift_df['new_salary'] = uplift_df.apply(_apply_pay_uplift, axis=1)\n",
    "# uplift_df.loc[:,'new_salary'] = uplift_df.apply(_apply_pay_uplift, axis=1)"
   ]
  },
  {
   "cell_type": "code",
   "execution_count": 330,
   "metadata": {
    "collapsed": false,
    "scrolled": false
   },
   "outputs": [
    {
     "data": {
      "text/html": [
       "<div>\n",
       "<table border=\"1\" class=\"dataframe\">\n",
       "  <thead>\n",
       "    <tr style=\"text-align: right;\">\n",
       "      <th></th>\n",
       "      <th>name</th>\n",
       "      <th>hire_date</th>\n",
       "      <th>payband</th>\n",
       "      <th>salary</th>\n",
       "      <th>fte</th>\n",
       "      <th>random_group</th>\n",
       "      <th>new_salary</th>\n",
       "    </tr>\n",
       "    <tr>\n",
       "      <th>emp_id</th>\n",
       "      <th></th>\n",
       "      <th></th>\n",
       "      <th></th>\n",
       "      <th></th>\n",
       "      <th></th>\n",
       "      <th></th>\n",
       "      <th></th>\n",
       "    </tr>\n",
       "  </thead>\n",
       "  <tbody>\n",
       "    <tr>\n",
       "      <th>1</th>\n",
       "      <td>Cooper, Kristin</td>\n",
       "      <td>1976-06-07</td>\n",
       "      <td>1</td>\n",
       "      <td>87866</td>\n",
       "      <td>1.0</td>\n",
       "      <td>2</td>\n",
       "      <td>87866</td>\n",
       "    </tr>\n",
       "    <tr>\n",
       "      <th>2</th>\n",
       "      <td>Mckinney, Sarah</td>\n",
       "      <td>2003-02-18</td>\n",
       "      <td>1</td>\n",
       "      <td>81221</td>\n",
       "      <td>1.0</td>\n",
       "      <td>2</td>\n",
       "      <td>81221</td>\n",
       "    </tr>\n",
       "    <tr>\n",
       "      <th>3</th>\n",
       "      <td>Clark, Evan</td>\n",
       "      <td>1977-02-09</td>\n",
       "      <td>1</td>\n",
       "      <td>100527</td>\n",
       "      <td>1.0</td>\n",
       "      <td>1</td>\n",
       "      <td>100527</td>\n",
       "    </tr>\n",
       "    <tr>\n",
       "      <th>4</th>\n",
       "      <td>Key, Jennifer</td>\n",
       "      <td>1999-03-09</td>\n",
       "      <td>1</td>\n",
       "      <td>113542</td>\n",
       "      <td>1.0</td>\n",
       "      <td>2</td>\n",
       "      <td>113542</td>\n",
       "    </tr>\n",
       "    <tr>\n",
       "      <th>5</th>\n",
       "      <td>Garrett, Lauren</td>\n",
       "      <td>2010-12-08</td>\n",
       "      <td>1</td>\n",
       "      <td>89731</td>\n",
       "      <td>1.0</td>\n",
       "      <td>2</td>\n",
       "      <td>89731</td>\n",
       "    </tr>\n",
       "  </tbody>\n",
       "</table>\n",
       "</div>"
      ],
      "text/plain": [
       "                   name  hire_date payband  salary  fte  random_group  \\\n",
       "emp_id                                                                  \n",
       "1       Cooper, Kristin 1976-06-07       1   87866  1.0             2   \n",
       "2       Mckinney, Sarah 2003-02-18       1   81221  1.0             2   \n",
       "3           Clark, Evan 1977-02-09       1  100527  1.0             1   \n",
       "4         Key, Jennifer 1999-03-09       1  113542  1.0             2   \n",
       "5       Garrett, Lauren 2010-12-08       1   89731  1.0             2   \n",
       "\n",
       "        new_salary  \n",
       "emp_id              \n",
       "1            87866  \n",
       "2            81221  \n",
       "3           100527  \n",
       "4           113542  \n",
       "5            89731  "
      ]
     },
     "execution_count": 330,
     "metadata": {},
     "output_type": "execute_result"
    }
   ],
   "source": [
    "uplift_df[:5]"
   ]
  },
  {
   "cell_type": "code",
   "execution_count": 331,
   "metadata": {
    "collapsed": false
   },
   "outputs": [
    {
     "data": {
      "text/plain": [
       "'Cost of uplift: £50,969'"
      ]
     },
     "execution_count": 331,
     "metadata": {},
     "output_type": "execute_result"
    }
   ],
   "source": [
    "'Cost of uplift: £{:,}'.format(sum(uplift_df.new_salary - uplift_df.salary))"
   ]
  },
  {
   "cell_type": "code",
   "execution_count": 332,
   "metadata": {
    "collapsed": false
   },
   "outputs": [
    {
     "data": {
      "text/plain": [
       "'Cost of uplift: 0.5345035804157905%'"
      ]
     },
     "execution_count": 332,
     "metadata": {},
     "output_type": "execute_result"
    }
   ],
   "source": [
    "'Cost of uplift: {:,}%'.format((sum(uplift_df.new_salary - uplift_df.salary) / sum(uplift_df.salary)) * 100)"
   ]
  },
  {
   "cell_type": "code",
   "execution_count": 386,
   "metadata": {
    "collapsed": false
   },
   "outputs": [],
   "source": [
    "plt.rcParams['figure.figsize'] = 6, 5"
   ]
  },
  {
   "cell_type": "code",
   "execution_count": 387,
   "metadata": {
    "collapsed": false
   },
   "outputs": [
    {
     "data": {
      "text/plain": [
       "<matplotlib.axes._subplots.AxesSubplot at 0x115b5cd30>"
      ]
     },
     "execution_count": 387,
     "metadata": {},
     "output_type": "execute_result"
    },
    {
     "data": {
      "image/png": "[encoded data removed]",
      "text/plain": [
       "<matplotlib.figure.Figure at 0x116d4cba8>"
      ]
     },
     "metadata": {},
     "output_type": "display_data"
    }
   ],
   "source": [
    "sns.boxplot(x='payband', y='salary', data=uplift_df)"
   ]
  },
  {
   "cell_type": "code",
   "execution_count": 334,
   "metadata": {
    "collapsed": false
   },
   "outputs": [
    {
     "data": {
      "text/html": [
       "<div>\n",
       "<table border=\"1\" class=\"dataframe\">\n",
       "  <thead>\n",
       "    <tr>\n",
       "      <th></th>\n",
       "      <th colspan=\"4\" halign=\"left\">salary</th>\n",
       "      <th colspan=\"2\" halign=\"left\">fte</th>\n",
       "    </tr>\n",
       "    <tr>\n",
       "      <th></th>\n",
       "      <th>sum</th>\n",
       "      <th>amin</th>\n",
       "      <th>amax</th>\n",
       "      <th>median</th>\n",
       "      <th>sum</th>\n",
       "      <th>count</th>\n",
       "    </tr>\n",
       "    <tr>\n",
       "      <th>payband</th>\n",
       "      <th></th>\n",
       "      <th></th>\n",
       "      <th></th>\n",
       "      <th></th>\n",
       "      <th></th>\n",
       "      <th></th>\n",
       "    </tr>\n",
       "  </thead>\n",
       "  <tbody>\n",
       "    <tr>\n",
       "      <th>1</th>\n",
       "      <td>7128538</td>\n",
       "      <td>60025</td>\n",
       "      <td>117775</td>\n",
       "      <td>85282</td>\n",
       "      <td>79.4</td>\n",
       "      <td>81</td>\n",
       "    </tr>\n",
       "    <tr>\n",
       "      <th>2</th>\n",
       "      <td>3117195</td>\n",
       "      <td>87688</td>\n",
       "      <td>159242</td>\n",
       "      <td>125656</td>\n",
       "      <td>24.8</td>\n",
       "      <td>25</td>\n",
       "    </tr>\n",
       "    <tr>\n",
       "      <th>3</th>\n",
       "      <td>569911</td>\n",
       "      <td>119317</td>\n",
       "      <td>167403</td>\n",
       "      <td>141595</td>\n",
       "      <td>4.0</td>\n",
       "      <td>4</td>\n",
       "    </tr>\n",
       "  </tbody>\n",
       "</table>\n",
       "</div>"
      ],
      "text/plain": [
       "          salary                           fte      \n",
       "             sum    amin    amax  median   sum count\n",
       "payband                                             \n",
       "1        7128538   60025  117775   85282  79.4    81\n",
       "2        3117195   87688  159242  125656  24.8    25\n",
       "3         569911  119317  167403  141595   4.0     4"
      ]
     },
     "execution_count": 334,
     "metadata": {},
     "output_type": "execute_result"
    }
   ],
   "source": [
    "df.groupby(['payband'])['salary','fte'].aggregate({'salary': [np.sum, np.min, np.max, np.median],\n",
    "                                                                   'fte': [np.sum, 'count']})"
   ]
  },
  {
   "cell_type": "code",
   "execution_count": 339,
   "metadata": {
    "collapsed": false
   },
   "outputs": [
    {
     "data": {
      "text/html": [
       "<div>\n",
       "<table border=\"1\" class=\"dataframe\">\n",
       "  <thead>\n",
       "    <tr>\n",
       "      <th></th>\n",
       "      <th colspan=\"4\" halign=\"left\">new_salary</th>\n",
       "      <th colspan=\"2\" halign=\"left\">fte</th>\n",
       "    </tr>\n",
       "    <tr>\n",
       "      <th></th>\n",
       "      <th>sum</th>\n",
       "      <th>amin</th>\n",
       "      <th>amax</th>\n",
       "      <th>median</th>\n",
       "      <th>sum</th>\n",
       "      <th>count</th>\n",
       "    </tr>\n",
       "    <tr>\n",
       "      <th>payband</th>\n",
       "      <th></th>\n",
       "      <th></th>\n",
       "      <th></th>\n",
       "      <th></th>\n",
       "      <th></th>\n",
       "      <th></th>\n",
       "    </tr>\n",
       "  </thead>\n",
       "  <tbody>\n",
       "    <tr>\n",
       "      <th>1</th>\n",
       "      <td>6537527</td>\n",
       "      <td>69000</td>\n",
       "      <td>117775</td>\n",
       "      <td>85054</td>\n",
       "      <td>72.8</td>\n",
       "      <td>74</td>\n",
       "    </tr>\n",
       "    <tr>\n",
       "      <th>2</th>\n",
       "      <td>2479295</td>\n",
       "      <td>87688</td>\n",
       "      <td>159242</td>\n",
       "      <td>118574</td>\n",
       "      <td>19.8</td>\n",
       "      <td>20</td>\n",
       "    </tr>\n",
       "    <tr>\n",
       "      <th>3</th>\n",
       "      <td>569911</td>\n",
       "      <td>119317</td>\n",
       "      <td>167403</td>\n",
       "      <td>141595</td>\n",
       "      <td>4.0</td>\n",
       "      <td>4</td>\n",
       "    </tr>\n",
       "  </tbody>\n",
       "</table>\n",
       "</div>"
      ],
      "text/plain": [
       "        new_salary                           fte      \n",
       "               sum    amin    amax  median   sum count\n",
       "payband                                               \n",
       "1          6537527   69000  117775   85054  72.8    74\n",
       "2          2479295   87688  159242  118574  19.8    20\n",
       "3           569911  119317  167403  141595   4.0     4"
      ]
     },
     "execution_count": 339,
     "metadata": {},
     "output_type": "execute_result"
    }
   ],
   "source": [
    "uplift_df.groupby(['payband'])['new_salary','fte'].aggregate({'new_salary': [np.sum, np.min, np.max, np.median],\n",
    "                                                                   'fte': [np.sum, 'count']})"
   ]
  },
  {
   "cell_type": "code",
   "execution_count": null,
   "metadata": {
    "collapsed": true
   },
   "outputs": [],
   "source": []
  },
  {
   "cell_type": "code",
   "execution_count": null,
   "metadata": {
    "collapsed": true
   },
   "outputs": [],
   "source": []
  },
  {
   "cell_type": "code",
   "execution_count": null,
   "metadata": {
    "collapsed": true
   },
   "outputs": [],
   "source": []
  },
  {
   "cell_type": "code",
   "execution_count": null,
   "metadata": {
    "collapsed": true,
    "deletable": true,
    "editable": true
   },
   "outputs": [],
   "source": []
  }
 ],
 "metadata": {
  "kernelspec": {
   "display_name": "Python 3",
   "language": "python",
   "name": "python3"
  },
  "language_info": {
   "codemirror_mode": {
    "name": "ipython",
    "version": 3
   },
   "file_extension": ".py",
   "mimetype": "text/x-python",
   "name": "python",
   "nbconvert_exporter": "python",
   "pygments_lexer": "ipython3",
   "version": "3.6.0"
  }
 },
 "nbformat": 4,
 "nbformat_minor": 2
}

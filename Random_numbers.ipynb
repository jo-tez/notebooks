{
 "cells": [
  {
   "cell_type": "markdown",
   "metadata": {
    "deletable": true,
    "editable": true
   },
   "source": [
    "# Monte-Carlo simulation model"
   ]
  },
  {
   "cell_type": "code",
   "execution_count": 1,
   "metadata": {
    "collapsed": true,
    "deletable": true,
    "editable": true
   },
   "outputs": [],
   "source": [
    "%matplotlib inline"
   ]
  },
  {
   "cell_type": "code",
   "execution_count": 2,
   "metadata": {
    "collapsed": false,
    "deletable": true,
    "editable": true
   },
   "outputs": [],
   "source": [
    "import numpy as np\n",
    "import numpy.random as npr\n",
    "import pandas as pd\n",
    "import matplotlib.pyplot as plt\n",
    "import matplotlib.pylab as pl\n",
    "import seaborn as sns\n",
    "import faker\n",
    "import isodate\n",
    "from datetime import date"
   ]
  },
  {
   "cell_type": "code",
   "execution_count": 3,
   "metadata": {
    "collapsed": false,
    "deletable": true,
    "editable": true
   },
   "outputs": [],
   "source": [
    "plt.style.use('ggplot')"
   ]
  },
  {
   "cell_type": "code",
   "execution_count": 4,
   "metadata": {
    "collapsed": true,
    "deletable": true,
    "editable": true
   },
   "outputs": [],
   "source": [
    "plt.rcParams['figure.figsize'] = 6, 5"
   ]
  },
  {
   "cell_type": "markdown",
   "metadata": {
    "deletable": true,
    "editable": true
   },
   "source": [
    "## Generate test data"
   ]
  },
  {
   "cell_type": "code",
   "execution_count": 5,
   "metadata": {
    "collapsed": true,
    "deletable": true,
    "editable": true
   },
   "outputs": [],
   "source": [
    "fk = faker.Factory.create()"
   ]
  },
  {
   "cell_type": "code",
   "execution_count": 125,
   "metadata": {
    "collapsed": false,
    "deletable": true,
    "editable": true
   },
   "outputs": [],
   "source": [
    "def load_data(n_recs=110):\n",
    "    npr.seed(1)\n",
    "    data = []\n",
    "    for i in range(n_recs):\n",
    "        payband = int(npr.choice([1, 2, 3], p=[0.7, 0.25, 0.05]))\n",
    "        salary = 0\n",
    "        if payband==1:\n",
    "            salary = fk.random_int(min=60000, max=118000)\n",
    "        elif payband==2:\n",
    "            salary = fk.random_int(min=87000, max=160000)\n",
    "        else:\n",
    "            salary = fk.random_int(min=105000, max=200000)\n",
    "        fte = npr.choice([1, 0.8, 0.6], p=[0.95, 0.025, 0.025])\n",
    "        record = {\n",
    "            'emp_id': i+1,\n",
    "            'name': '{}, {}'.format(fk.last_name(), fk.first_name()),\n",
    "            'hire_date': isodate.parse_date(fk.date()),\n",
    "            'payband': payband,\n",
    "            'salary': salary,\n",
    "            'fte': fte\n",
    "        }\n",
    "        data.append(record)\n",
    "    # Reset seed to be truly random\n",
    "    npr.seed()\n",
    "    \n",
    "    df = pd.DataFrame(data)\n",
    "    df['hire_date'] = pd.to_datetime(df.hire_date)\n",
    "    df = df[['emp_id', 'name', 'hire_date', 'payband', 'salary', 'fte']]\n",
    "    df.set_index('emp_id', inplace=True)\n",
    "\n",
    "    return df"
   ]
  },
  {
   "cell_type": "code",
   "execution_count": 126,
   "metadata": {
    "collapsed": false,
    "deletable": true,
    "editable": true,
    "scrolled": false
   },
   "outputs": [
    {
     "data": {
      "text/html": [
       "<div>\n",
       "<table border=\"1\" class=\"dataframe\">\n",
       "  <thead>\n",
       "    <tr style=\"text-align: right;\">\n",
       "      <th></th>\n",
       "      <th>name</th>\n",
       "      <th>hire_date</th>\n",
       "      <th>payband</th>\n",
       "      <th>salary</th>\n",
       "      <th>fte</th>\n",
       "    </tr>\n",
       "    <tr>\n",
       "      <th>emp_id</th>\n",
       "      <th></th>\n",
       "      <th></th>\n",
       "      <th></th>\n",
       "      <th></th>\n",
       "      <th></th>\n",
       "    </tr>\n",
       "  </thead>\n",
       "  <tbody>\n",
       "    <tr>\n",
       "      <th>1</th>\n",
       "      <td>Williams, Bradley</td>\n",
       "      <td>2004-04-30</td>\n",
       "      <td>1</td>\n",
       "      <td>112489</td>\n",
       "      <td>1.0</td>\n",
       "    </tr>\n",
       "    <tr>\n",
       "      <th>2</th>\n",
       "      <td>Santos, Jared</td>\n",
       "      <td>2015-09-27</td>\n",
       "      <td>1</td>\n",
       "      <td>65684</td>\n",
       "      <td>1.0</td>\n",
       "    </tr>\n",
       "    <tr>\n",
       "      <th>3</th>\n",
       "      <td>Mendoza, Edward</td>\n",
       "      <td>2008-01-25</td>\n",
       "      <td>1</td>\n",
       "      <td>69203</td>\n",
       "      <td>1.0</td>\n",
       "    </tr>\n",
       "    <tr>\n",
       "      <th>4</th>\n",
       "      <td>Kaiser, Kimberly</td>\n",
       "      <td>2003-04-23</td>\n",
       "      <td>1</td>\n",
       "      <td>105290</td>\n",
       "      <td>1.0</td>\n",
       "    </tr>\n",
       "    <tr>\n",
       "      <th>5</th>\n",
       "      <td>Henry, Mallory</td>\n",
       "      <td>1975-08-16</td>\n",
       "      <td>1</td>\n",
       "      <td>103417</td>\n",
       "      <td>1.0</td>\n",
       "    </tr>\n",
       "  </tbody>\n",
       "</table>\n",
       "</div>"
      ],
      "text/plain": [
       "                     name  hire_date  payband  salary  fte\n",
       "emp_id                                                    \n",
       "1       Williams, Bradley 2004-04-30        1  112489  1.0\n",
       "2           Santos, Jared 2015-09-27        1   65684  1.0\n",
       "3         Mendoza, Edward 2008-01-25        1   69203  1.0\n",
       "4        Kaiser, Kimberly 2003-04-23        1  105290  1.0\n",
       "5          Henry, Mallory 1975-08-16        1  103417  1.0"
      ]
     },
     "execution_count": 126,
     "metadata": {},
     "output_type": "execute_result"
    }
   ],
   "source": [
    "df = pd.DataFrame(data)\n",
    "df['hire_date'] = pd.to_datetime(df.hire_date)\n",
    "df = df[['emp_id', 'name', 'hire_date', 'payband', 'salary', 'fte']]\n",
    "df.set_index('emp_id', inplace=True)\n",
    "df[:5]"
   ]
  },
  {
   "cell_type": "code",
   "execution_count": 8,
   "metadata": {
    "collapsed": false,
    "deletable": true,
    "editable": true,
    "scrolled": true
   },
   "outputs": [
    {
     "name": "stdout",
     "output_type": "stream",
     "text": [
      "<class 'pandas.core.frame.DataFrame'>\n",
      "Int64Index: 110 entries, 1 to 110\n",
      "Data columns (total 5 columns):\n",
      "name         110 non-null object\n",
      "hire_date    110 non-null datetime64[ns]\n",
      "payband      110 non-null int64\n",
      "salary       110 non-null int64\n",
      "fte          110 non-null float64\n",
      "dtypes: datetime64[ns](1), float64(1), int64(2), object(1)\n",
      "memory usage: 5.2+ KB\n"
     ]
    }
   ],
   "source": [
    "df.info()"
   ]
  },
  {
   "cell_type": "markdown",
   "metadata": {
    "deletable": true,
    "editable": true
   },
   "source": [
    "## Overview analysis"
   ]
  },
  {
   "cell_type": "code",
   "execution_count": 9,
   "metadata": {
    "collapsed": false,
    "deletable": true,
    "editable": true
   },
   "outputs": [
    {
     "data": {
      "text/html": [
       "<div>\n",
       "<table border=\"1\" class=\"dataframe\">\n",
       "  <thead>\n",
       "    <tr>\n",
       "      <th></th>\n",
       "      <th colspan=\"4\" halign=\"left\">salary</th>\n",
       "      <th colspan=\"2\" halign=\"left\">fte</th>\n",
       "    </tr>\n",
       "    <tr>\n",
       "      <th></th>\n",
       "      <th>sum</th>\n",
       "      <th>amin</th>\n",
       "      <th>amax</th>\n",
       "      <th>median</th>\n",
       "      <th>sum</th>\n",
       "      <th>count</th>\n",
       "    </tr>\n",
       "    <tr>\n",
       "      <th>payband</th>\n",
       "      <th></th>\n",
       "      <th></th>\n",
       "      <th></th>\n",
       "      <th></th>\n",
       "      <th></th>\n",
       "      <th></th>\n",
       "    </tr>\n",
       "  </thead>\n",
       "  <tbody>\n",
       "    <tr>\n",
       "      <th>1</th>\n",
       "      <td>7192863</td>\n",
       "      <td>60082</td>\n",
       "      <td>117398</td>\n",
       "      <td>90495</td>\n",
       "      <td>79.4</td>\n",
       "      <td>81</td>\n",
       "    </tr>\n",
       "    <tr>\n",
       "      <th>2</th>\n",
       "      <td>3076224</td>\n",
       "      <td>88560</td>\n",
       "      <td>158144</td>\n",
       "      <td>127237</td>\n",
       "      <td>24.8</td>\n",
       "      <td>25</td>\n",
       "    </tr>\n",
       "    <tr>\n",
       "      <th>3</th>\n",
       "      <td>606288</td>\n",
       "      <td>114863</td>\n",
       "      <td>197429</td>\n",
       "      <td>146998</td>\n",
       "      <td>4.0</td>\n",
       "      <td>4</td>\n",
       "    </tr>\n",
       "  </tbody>\n",
       "</table>\n",
       "</div>"
      ],
      "text/plain": [
       "          salary                           fte      \n",
       "             sum    amin    amax  median   sum count\n",
       "payband                                             \n",
       "1        7192863   60082  117398   90495  79.4    81\n",
       "2        3076224   88560  158144  127237  24.8    25\n",
       "3         606288  114863  197429  146998   4.0     4"
      ]
     },
     "execution_count": 9,
     "metadata": {},
     "output_type": "execute_result"
    }
   ],
   "source": [
    "payband_stats = df.groupby(['payband'])['salary','fte'].aggregate({'salary': [np.sum, np.min, np.max, np.median],\n",
    "                                                                   'fte': [np.sum, 'count']})\n",
    "payband_stats"
   ]
  },
  {
   "cell_type": "code",
   "execution_count": 10,
   "metadata": {
    "collapsed": false,
    "deletable": true,
    "editable": true
   },
   "outputs": [
    {
     "name": "stdout",
     "output_type": "stream",
     "text": [
      "Est Paybill: £10,875,375\n"
     ]
    }
   ],
   "source": [
    "print('Est Paybill: £{:,}'.format(df.salary.sum()))"
   ]
  },
  {
   "cell_type": "code",
   "execution_count": 11,
   "metadata": {
    "collapsed": false,
    "deletable": true,
    "editable": true,
    "scrolled": false
   },
   "outputs": [
    {
     "data": {
      "text/plain": [
       "(55000, 210000)"
      ]
     },
     "execution_count": 11,
     "metadata": {},
     "output_type": "execute_result"
    },
    {
     "data": {
      "image/png": "[encoded data removed]",
      "text/plain": [
       "<matplotlib.figure.Figure at 0x10dd592e8>"
      ]
     },
     "metadata": {},
     "output_type": "display_data"
    }
   ],
   "source": [
    "g = sns.boxplot(x='payband', y='salary', data=df)\n",
    "g.set_ylim(55000, 210000)"
   ]
  },
  {
   "cell_type": "markdown",
   "metadata": {
    "deletable": true,
    "editable": true
   },
   "source": [
    "## Random number generation"
   ]
  },
  {
   "cell_type": "code",
   "execution_count": 12,
   "metadata": {
    "collapsed": true,
    "deletable": true,
    "editable": true
   },
   "outputs": [],
   "source": [
    "# Generate random number according to the specified probability distribution\n",
    "def _generate_random(n=1):\n",
    "    r_n = npr.choice(3, n, p=[.25, .65, .10])\n",
    "    return r_n + 1"
   ]
  },
  {
   "cell_type": "code",
   "execution_count": 13,
   "metadata": {
    "collapsed": false,
    "deletable": true,
    "editable": true
   },
   "outputs": [
    {
     "data": {
      "text/html": [
       "<div>\n",
       "<table border=\"1\" class=\"dataframe\">\n",
       "  <thead>\n",
       "    <tr style=\"text-align: right;\">\n",
       "      <th></th>\n",
       "      <th>name</th>\n",
       "      <th>hire_date</th>\n",
       "      <th>payband</th>\n",
       "      <th>salary</th>\n",
       "      <th>fte</th>\n",
       "      <th>random_group</th>\n",
       "    </tr>\n",
       "    <tr>\n",
       "      <th>emp_id</th>\n",
       "      <th></th>\n",
       "      <th></th>\n",
       "      <th></th>\n",
       "      <th></th>\n",
       "      <th></th>\n",
       "      <th></th>\n",
       "    </tr>\n",
       "  </thead>\n",
       "  <tbody>\n",
       "    <tr>\n",
       "      <th>1</th>\n",
       "      <td>Williams, Bradley</td>\n",
       "      <td>2004-04-30</td>\n",
       "      <td>1</td>\n",
       "      <td>112489</td>\n",
       "      <td>1.0</td>\n",
       "      <td>1</td>\n",
       "    </tr>\n",
       "    <tr>\n",
       "      <th>2</th>\n",
       "      <td>Santos, Jared</td>\n",
       "      <td>2015-09-27</td>\n",
       "      <td>1</td>\n",
       "      <td>65684</td>\n",
       "      <td>1.0</td>\n",
       "      <td>3</td>\n",
       "    </tr>\n",
       "    <tr>\n",
       "      <th>3</th>\n",
       "      <td>Mendoza, Edward</td>\n",
       "      <td>2008-01-25</td>\n",
       "      <td>1</td>\n",
       "      <td>69203</td>\n",
       "      <td>1.0</td>\n",
       "      <td>1</td>\n",
       "    </tr>\n",
       "    <tr>\n",
       "      <th>4</th>\n",
       "      <td>Kaiser, Kimberly</td>\n",
       "      <td>2003-04-23</td>\n",
       "      <td>1</td>\n",
       "      <td>105290</td>\n",
       "      <td>1.0</td>\n",
       "      <td>2</td>\n",
       "    </tr>\n",
       "    <tr>\n",
       "      <th>5</th>\n",
       "      <td>Henry, Mallory</td>\n",
       "      <td>1975-08-16</td>\n",
       "      <td>1</td>\n",
       "      <td>103417</td>\n",
       "      <td>1.0</td>\n",
       "      <td>2</td>\n",
       "    </tr>\n",
       "  </tbody>\n",
       "</table>\n",
       "</div>"
      ],
      "text/plain": [
       "                     name  hire_date  payband  salary  fte  random_group\n",
       "emp_id                                                                  \n",
       "1       Williams, Bradley 2004-04-30        1  112489  1.0             1\n",
       "2           Santos, Jared 2015-09-27        1   65684  1.0             3\n",
       "3         Mendoza, Edward 2008-01-25        1   69203  1.0             1\n",
       "4        Kaiser, Kimberly 2003-04-23        1  105290  1.0             2\n",
       "5          Henry, Mallory 1975-08-16        1  103417  1.0             2"
      ]
     },
     "execution_count": 13,
     "metadata": {},
     "output_type": "execute_result"
    }
   ],
   "source": [
    "# Assign random group\n",
    "df['random_group'] = _generate_random(n_recs)\n",
    "df[:5]"
   ]
  },
  {
   "cell_type": "code",
   "execution_count": 14,
   "metadata": {
    "collapsed": false,
    "deletable": true,
    "editable": true,
    "scrolled": false
   },
   "outputs": [
    {
     "data": {
      "text/html": [
       "<div>\n",
       "<table border=\"1\" class=\"dataframe\">\n",
       "  <thead>\n",
       "    <tr style=\"text-align: right;\">\n",
       "      <th></th>\n",
       "      <th>total</th>\n",
       "      <th>percent</th>\n",
       "    </tr>\n",
       "    <tr>\n",
       "      <th>random_group</th>\n",
       "      <th></th>\n",
       "      <th></th>\n",
       "    </tr>\n",
       "  </thead>\n",
       "  <tbody>\n",
       "    <tr>\n",
       "      <th>1</th>\n",
       "      <td>29</td>\n",
       "      <td>0.263636</td>\n",
       "    </tr>\n",
       "    <tr>\n",
       "      <th>2</th>\n",
       "      <td>70</td>\n",
       "      <td>0.636364</td>\n",
       "    </tr>\n",
       "    <tr>\n",
       "      <th>3</th>\n",
       "      <td>11</td>\n",
       "      <td>0.100000</td>\n",
       "    </tr>\n",
       "  </tbody>\n",
       "</table>\n",
       "</div>"
      ],
      "text/plain": [
       "              total   percent\n",
       "random_group                 \n",
       "1                29  0.263636\n",
       "2                70  0.636364\n",
       "3                11  0.100000"
      ]
     },
     "execution_count": 14,
     "metadata": {},
     "output_type": "execute_result"
    }
   ],
   "source": [
    "group_totals = df.groupby('random_group')['salary'].aggregate({'total': np.size})\n",
    "group_totals['percent'] = group_totals.total/sum(group_totals.total)\n",
    "group_totals"
   ]
  },
  {
   "cell_type": "markdown",
   "metadata": {
    "deletable": true,
    "editable": true
   },
   "source": [
    "## Pay uplift"
   ]
  },
  {
   "cell_type": "markdown",
   "metadata": {
    "deletable": true,
    "editable": true
   },
   "source": [
    "### New pay ranges"
   ]
  },
  {
   "cell_type": "code",
   "execution_count": 15,
   "metadata": {
    "collapsed": false,
    "deletable": true,
    "editable": true,
    "scrolled": false
   },
   "outputs": [
    {
     "data": {
      "text/html": [
       "<div>\n",
       "<table border=\"1\" class=\"dataframe\">\n",
       "  <thead>\n",
       "    <tr style=\"text-align: right;\">\n",
       "      <th></th>\n",
       "      <th>max</th>\n",
       "      <th>min</th>\n",
       "      <th>midpoint</th>\n",
       "    </tr>\n",
       "    <tr>\n",
       "      <th>payband</th>\n",
       "      <th></th>\n",
       "      <th></th>\n",
       "      <th></th>\n",
       "    </tr>\n",
       "  </thead>\n",
       "  <tbody>\n",
       "    <tr>\n",
       "      <th>1</th>\n",
       "      <td>118000</td>\n",
       "      <td>69000</td>\n",
       "      <td>93500.0</td>\n",
       "    </tr>\n",
       "    <tr>\n",
       "      <th>2</th>\n",
       "      <td>163000</td>\n",
       "      <td>87000</td>\n",
       "      <td>125000.0</td>\n",
       "    </tr>\n",
       "    <tr>\n",
       "      <th>3</th>\n",
       "      <td>208100</td>\n",
       "      <td>105000</td>\n",
       "      <td>156550.0</td>\n",
       "    </tr>\n",
       "  </tbody>\n",
       "</table>\n",
       "</div>"
      ],
      "text/plain": [
       "            max     min  midpoint\n",
       "payband                          \n",
       "1        118000   69000   93500.0\n",
       "2        163000   87000  125000.0\n",
       "3        208100  105000  156550.0"
      ]
     },
     "execution_count": 15,
     "metadata": {},
     "output_type": "execute_result"
    }
   ],
   "source": [
    "new_ranges = pd.DataFrame({\n",
    "    'payband': [1, 2, 3],\n",
    "    'min': [69000, 87000, 105000],\n",
    "    'max': [118000, 163000, 208100]\n",
    "    })\n",
    "new_ranges.set_index('payband', inplace=True)\n",
    "new_ranges['midpoint'] = (new_ranges['max'] + new_ranges['min']) / 2\n",
    "new_ranges"
   ]
  },
  {
   "cell_type": "markdown",
   "metadata": {},
   "source": [
    "### Uplift to new min\n",
    "Everyone is eligible"
   ]
  },
  {
   "cell_type": "code",
   "execution_count": 16,
   "metadata": {
    "collapsed": false,
    "deletable": true,
    "editable": true
   },
   "outputs": [],
   "source": [
    "def _apply_pay_uplift(row):\n",
    "    pb = int(row.payband)\n",
    "    new_min = new_ranges.ix[pb, 'min']\n",
    "    if new_min > row.salary:\n",
    "        return new_min - row.salary\n",
    "    else:\n",
    "        return 0"
   ]
  },
  {
   "cell_type": "code",
   "execution_count": 17,
   "metadata": {
    "collapsed": false,
    "deletable": true,
    "editable": true,
    "scrolled": true
   },
   "outputs": [],
   "source": [
    "# Create new salary column \n",
    "temp_df = df.copy()\n",
    "temp_df['uplift'] = temp_df.apply(_apply_pay_uplift, axis=1)\n",
    "df = temp_df"
   ]
  },
  {
   "cell_type": "markdown",
   "metadata": {},
   "source": [
    "### Calculate cost of uplift"
   ]
  },
  {
   "cell_type": "code",
   "execution_count": 18,
   "metadata": {
    "collapsed": false,
    "deletable": true,
    "editable": true,
    "scrolled": true
   },
   "outputs": [
    {
     "data": {
      "text/plain": [
       "'Cost of uplift: £67,606'"
      ]
     },
     "execution_count": 18,
     "metadata": {},
     "output_type": "execute_result"
    }
   ],
   "source": [
    "'Cost of uplift: £{:,}'.format(sum(df.uplift))"
   ]
  },
  {
   "cell_type": "code",
   "execution_count": 19,
   "metadata": {
    "collapsed": false,
    "deletable": true,
    "editable": true
   },
   "outputs": [
    {
     "data": {
      "text/plain": [
       "'Cost of uplift: 0.6216429318529246%'"
      ]
     },
     "execution_count": 19,
     "metadata": {},
     "output_type": "execute_result"
    }
   ],
   "source": [
    "'Cost of uplift: {:,}%'.format((sum(df.uplift) / sum(df.salary)) * 100)"
   ]
  },
  {
   "cell_type": "markdown",
   "metadata": {},
   "source": [
    "### Analyse changes in salary distribution"
   ]
  },
  {
   "cell_type": "code",
   "execution_count": 20,
   "metadata": {
    "collapsed": false,
    "deletable": true,
    "editable": true
   },
   "outputs": [
    {
     "data": {
      "text/html": [
       "<div>\n",
       "<table border=\"1\" class=\"dataframe\">\n",
       "  <thead>\n",
       "    <tr>\n",
       "      <th></th>\n",
       "      <th colspan=\"5\" halign=\"left\">salary</th>\n",
       "      <th colspan=\"2\" halign=\"left\">fte</th>\n",
       "    </tr>\n",
       "    <tr>\n",
       "      <th></th>\n",
       "      <th>sum</th>\n",
       "      <th>amin</th>\n",
       "      <th>amax</th>\n",
       "      <th>mean</th>\n",
       "      <th>median</th>\n",
       "      <th>sum</th>\n",
       "      <th>count</th>\n",
       "    </tr>\n",
       "    <tr>\n",
       "      <th>payband</th>\n",
       "      <th></th>\n",
       "      <th></th>\n",
       "      <th></th>\n",
       "      <th></th>\n",
       "      <th></th>\n",
       "      <th></th>\n",
       "      <th></th>\n",
       "    </tr>\n",
       "  </thead>\n",
       "  <tbody>\n",
       "    <tr>\n",
       "      <th>1</th>\n",
       "      <td>7192863</td>\n",
       "      <td>60082</td>\n",
       "      <td>117398</td>\n",
       "      <td>88800</td>\n",
       "      <td>90495</td>\n",
       "      <td>79.4</td>\n",
       "      <td>81</td>\n",
       "    </tr>\n",
       "    <tr>\n",
       "      <th>2</th>\n",
       "      <td>3076224</td>\n",
       "      <td>88560</td>\n",
       "      <td>158144</td>\n",
       "      <td>123048</td>\n",
       "      <td>127237</td>\n",
       "      <td>24.8</td>\n",
       "      <td>25</td>\n",
       "    </tr>\n",
       "    <tr>\n",
       "      <th>3</th>\n",
       "      <td>606288</td>\n",
       "      <td>114863</td>\n",
       "      <td>197429</td>\n",
       "      <td>151572</td>\n",
       "      <td>146998</td>\n",
       "      <td>4.0</td>\n",
       "      <td>4</td>\n",
       "    </tr>\n",
       "  </tbody>\n",
       "</table>\n",
       "</div>"
      ],
      "text/plain": [
       "          salary                                   fte      \n",
       "             sum    amin    amax    mean  median   sum count\n",
       "payband                                                     \n",
       "1        7192863   60082  117398   88800   90495  79.4    81\n",
       "2        3076224   88560  158144  123048  127237  24.8    25\n",
       "3         606288  114863  197429  151572  146998   4.0     4"
      ]
     },
     "execution_count": 20,
     "metadata": {},
     "output_type": "execute_result"
    }
   ],
   "source": [
    "df.groupby(['payband'])['salary','fte'].aggregate({'salary': [np.sum, np.min, np.max, np.mean, np.median],\n",
    "                                                      'fte': [np.sum, 'count']})"
   ]
  },
  {
   "cell_type": "code",
   "execution_count": 24,
   "metadata": {
    "collapsed": false,
    "deletable": true,
    "editable": true
   },
   "outputs": [],
   "source": [
    "#df.groupby(['payband'])['new_salary','fte'].aggregate({'new_salary': [np.sum, np.min, np.max, np.mean, np.median],\n",
    "#                                                              'fte': [np.sum, 'count']})"
   ]
  },
  {
   "cell_type": "markdown",
   "metadata": {},
   "source": [
    "## Pay options"
   ]
  },
  {
   "cell_type": "code",
   "execution_count": 25,
   "metadata": {
    "collapsed": false
   },
   "outputs": [],
   "source": [
    "total_paybill = sum(df['salary']) # estimated\n",
    "eligibility_date = isodate.parse_date('2017-01-01')\n",
    "option_df = pd.DataFrame({\n",
    "    'breakpoint': [80000, 110000, 135000],\n",
    "    'special_cases': [10, 5, 0],\n",
    "    'special_award': [2000, 2000, 0],\n",
    "    'pay_award_tier1': [1000, 1000, 1000],\n",
    "    'pay_award_tier2': [250, 250, 250]\n",
    "}, index=[1, 2, 3])\n",
    "option_df.index.name = 'payband'"
   ]
  },
  {
   "cell_type": "code",
   "execution_count": 26,
   "metadata": {
    "collapsed": false,
    "scrolled": false
   },
   "outputs": [
    {
     "data": {
      "text/html": [
       "<div>\n",
       "<table border=\"1\" class=\"dataframe\">\n",
       "  <thead>\n",
       "    <tr style=\"text-align: right;\">\n",
       "      <th></th>\n",
       "      <th>breakpoint</th>\n",
       "      <th>pay_award_tier1</th>\n",
       "      <th>pay_award_tier2</th>\n",
       "      <th>special_award</th>\n",
       "      <th>special_cases</th>\n",
       "    </tr>\n",
       "    <tr>\n",
       "      <th>payband</th>\n",
       "      <th></th>\n",
       "      <th></th>\n",
       "      <th></th>\n",
       "      <th></th>\n",
       "      <th></th>\n",
       "    </tr>\n",
       "  </thead>\n",
       "  <tbody>\n",
       "    <tr>\n",
       "      <th>1</th>\n",
       "      <td>80000</td>\n",
       "      <td>1000</td>\n",
       "      <td>250</td>\n",
       "      <td>2000</td>\n",
       "      <td>10</td>\n",
       "    </tr>\n",
       "    <tr>\n",
       "      <th>2</th>\n",
       "      <td>110000</td>\n",
       "      <td>1000</td>\n",
       "      <td>250</td>\n",
       "      <td>2000</td>\n",
       "      <td>5</td>\n",
       "    </tr>\n",
       "    <tr>\n",
       "      <th>3</th>\n",
       "      <td>135000</td>\n",
       "      <td>1000</td>\n",
       "      <td>250</td>\n",
       "      <td>0</td>\n",
       "      <td>0</td>\n",
       "    </tr>\n",
       "  </tbody>\n",
       "</table>\n",
       "</div>"
      ],
      "text/plain": [
       "         breakpoint  pay_award_tier1  pay_award_tier2  special_award  \\\n",
       "payband                                                                \n",
       "1             80000             1000              250           2000   \n",
       "2            110000             1000              250           2000   \n",
       "3            135000             1000              250              0   \n",
       "\n",
       "         special_cases  \n",
       "payband                 \n",
       "1                   10  \n",
       "2                    5  \n",
       "3                    0  "
      ]
     },
     "execution_count": 26,
     "metadata": {},
     "output_type": "execute_result"
    }
   ],
   "source": [
    "option_df"
   ]
  },
  {
   "cell_type": "code",
   "execution_count": 27,
   "metadata": {
    "collapsed": false
   },
   "outputs": [],
   "source": [
    "def pay_award(row):\n",
    "    pb = row.payband\n",
    "    if ((row.hire_date < pd.to_datetime(eligibility_date)) & (row.random_group < 3)):\n",
    "        if row.salary < option_df.ix[pb, 'breakpoint']:\n",
    "            return option_df.ix[pb, 'pay_award_tier1']\n",
    "        else:\n",
    "            return option_df.ix[pb, 'pay_award_tier2']"
   ]
  },
  {
   "cell_type": "code",
   "execution_count": 28,
   "metadata": {
    "collapsed": false,
    "scrolled": false
   },
   "outputs": [],
   "source": [
    "award_df = df.copy()\n",
    "award_df['pay_award'] = award_df.apply(pay_award, axis=1)"
   ]
  },
  {
   "cell_type": "code",
   "execution_count": 29,
   "metadata": {
    "collapsed": false,
    "scrolled": true
   },
   "outputs": [
    {
     "data": {
      "text/html": [
       "<div>\n",
       "<table border=\"1\" class=\"dataframe\">\n",
       "  <thead>\n",
       "    <tr style=\"text-align: right;\">\n",
       "      <th></th>\n",
       "      <th>name</th>\n",
       "      <th>hire_date</th>\n",
       "      <th>payband</th>\n",
       "      <th>salary</th>\n",
       "      <th>fte</th>\n",
       "      <th>random_group</th>\n",
       "      <th>uplift</th>\n",
       "      <th>pay_award</th>\n",
       "    </tr>\n",
       "    <tr>\n",
       "      <th>emp_id</th>\n",
       "      <th></th>\n",
       "      <th></th>\n",
       "      <th></th>\n",
       "      <th></th>\n",
       "      <th></th>\n",
       "      <th></th>\n",
       "      <th></th>\n",
       "      <th></th>\n",
       "    </tr>\n",
       "  </thead>\n",
       "  <tbody>\n",
       "    <tr>\n",
       "      <th>1</th>\n",
       "      <td>Williams, Bradley</td>\n",
       "      <td>2004-04-30</td>\n",
       "      <td>1</td>\n",
       "      <td>112489</td>\n",
       "      <td>1.0</td>\n",
       "      <td>1</td>\n",
       "      <td>0</td>\n",
       "      <td>250.0</td>\n",
       "    </tr>\n",
       "    <tr>\n",
       "      <th>2</th>\n",
       "      <td>Santos, Jared</td>\n",
       "      <td>2015-09-27</td>\n",
       "      <td>1</td>\n",
       "      <td>65684</td>\n",
       "      <td>1.0</td>\n",
       "      <td>3</td>\n",
       "      <td>3316</td>\n",
       "      <td>NaN</td>\n",
       "    </tr>\n",
       "    <tr>\n",
       "      <th>3</th>\n",
       "      <td>Mendoza, Edward</td>\n",
       "      <td>2008-01-25</td>\n",
       "      <td>1</td>\n",
       "      <td>69203</td>\n",
       "      <td>1.0</td>\n",
       "      <td>1</td>\n",
       "      <td>0</td>\n",
       "      <td>1000.0</td>\n",
       "    </tr>\n",
       "    <tr>\n",
       "      <th>4</th>\n",
       "      <td>Kaiser, Kimberly</td>\n",
       "      <td>2003-04-23</td>\n",
       "      <td>1</td>\n",
       "      <td>105290</td>\n",
       "      <td>1.0</td>\n",
       "      <td>2</td>\n",
       "      <td>0</td>\n",
       "      <td>250.0</td>\n",
       "    </tr>\n",
       "    <tr>\n",
       "      <th>5</th>\n",
       "      <td>Henry, Mallory</td>\n",
       "      <td>1975-08-16</td>\n",
       "      <td>1</td>\n",
       "      <td>103417</td>\n",
       "      <td>1.0</td>\n",
       "      <td>2</td>\n",
       "      <td>0</td>\n",
       "      <td>250.0</td>\n",
       "    </tr>\n",
       "  </tbody>\n",
       "</table>\n",
       "</div>"
      ],
      "text/plain": [
       "                     name  hire_date  payband  salary  fte  random_group  \\\n",
       "emp_id                                                                     \n",
       "1       Williams, Bradley 2004-04-30        1  112489  1.0             1   \n",
       "2           Santos, Jared 2015-09-27        1   65684  1.0             3   \n",
       "3         Mendoza, Edward 2008-01-25        1   69203  1.0             1   \n",
       "4        Kaiser, Kimberly 2003-04-23        1  105290  1.0             2   \n",
       "5          Henry, Mallory 1975-08-16        1  103417  1.0             2   \n",
       "\n",
       "        uplift  pay_award  \n",
       "emp_id                     \n",
       "1            0      250.0  \n",
       "2         3316        NaN  \n",
       "3            0     1000.0  \n",
       "4            0      250.0  \n",
       "5            0      250.0  "
      ]
     },
     "execution_count": 29,
     "metadata": {},
     "output_type": "execute_result"
    }
   ],
   "source": [
    "award_df[:5]"
   ]
  },
  {
   "cell_type": "code",
   "execution_count": 30,
   "metadata": {
    "collapsed": true
   },
   "outputs": [],
   "source": [
    "# Fill N/A's with 0 to enable totals\n",
    "award_df.fillna(value=0, inplace=True)\n",
    "award_df['new_salary'] = award_df['salary'] + award_df['pay_award'] + award_df['uplift']"
   ]
  },
  {
   "cell_type": "code",
   "execution_count": 31,
   "metadata": {
    "collapsed": false
   },
   "outputs": [
    {
     "data": {
      "text/plain": [
       "'Cost of award: 1.0107450087928003%'"
      ]
     },
     "execution_count": 31,
     "metadata": {},
     "output_type": "execute_result"
    }
   ],
   "source": [
    "'Cost of award: {:,}%'.format(award_df['new_salary'].sum() / award_df['salary'].sum())"
   ]
  },
  {
   "cell_type": "code",
   "execution_count": 32,
   "metadata": {
    "collapsed": false
   },
   "outputs": [
    {
     "data": {
      "text/plain": [
       "'Cost of award: £116,856.0'"
      ]
     },
     "execution_count": 32,
     "metadata": {},
     "output_type": "execute_result"
    }
   ],
   "source": [
    "'Cost of award: £{:,}'.format(sum(award_df.new_salary - award_df.salary))"
   ]
  },
  {
   "cell_type": "code",
   "execution_count": 104,
   "metadata": {
    "collapsed": false
   },
   "outputs": [
    {
     "data": {
      "text/plain": [
       "<matplotlib.text.Text at 0x113100240>"
      ]
     },
     "execution_count": 104,
     "metadata": {},
     "output_type": "execute_result"
    },
    {
     "data": {
      "image/png": "[encoded data removed]",
      "text/plain": [
       "<matplotlib.figure.Figure at 0x112e0a0f0>"
      ]
     },
     "metadata": {},
     "output_type": "display_data"
    }
   ],
   "source": [
    "f, (ax1, ax2) = plt.subplots(1, 2, sharex='all', sharey='all', figsize=(9,5))\n",
    "sns.boxplot(x='payband', y='salary', data=df, ax=ax1)\n",
    "ax1.set_title('Before')\n",
    "sns.boxplot(x='payband', y='new_salary', data=award_df, ax=ax2)\n",
    "ax2.set_title('After')\n",
    "ax2.set_ylabel('')"
   ]
  },
  {
   "cell_type": "markdown",
   "metadata": {},
   "source": [
    "# Monte-Carlo Simulation"
   ]
  },
  {
   "cell_type": "code",
   "execution_count": 121,
   "metadata": {
    "collapsed": false
   },
   "outputs": [],
   "source": [
    "%load_ext Cython"
   ]
  },
  {
   "cell_type": "code",
   "execution_count": 142,
   "metadata": {
    "collapsed": false
   },
   "outputs": [],
   "source": [
    "def run_simulation(df, option_df, paybill=None, N=100):\n",
    "    n_recs = len(df)\n",
    "    if paybill:\n",
    "        paybill = paybill\n",
    "    else:\n",
    "        paybill = df['salary'].sum()\n",
    "    results = []\n",
    "    \n",
    "    for i in range(N):\n",
    "        df['random_group'] = _generate_random(n_recs)\n",
    "        \n",
    "        model_distribution = df.groupby('random_group')['salary'].aggregate({'total': np.size})\n",
    "        model_distribution['percent'] = model_distribution.total/sum(model_distribution.total)\n",
    "        \n",
    "        # Apply uplift to new mins\n",
    "        temp_df = df.copy()\n",
    "        temp_df['uplift'] = temp_df.apply(_apply_pay_uplift, axis=1)\n",
    "        df = temp_df\n",
    "        \n",
    "        # Apply pay awards\n",
    "        award_df = df.copy()\n",
    "        df['pay_award'] = award_df.apply(pay_award, axis=1)\n",
    "        \n",
    "        # Fill N/A's with 0 to enable totals\n",
    "        df.fillna(value=0, inplace=True)\n",
    "        df['new_salary'] = df['salary'] + df['pay_award'] + df['uplift']\n",
    "        \n",
    "        costs = sum(df['new_salary'] - df['salary'])\n",
    "        \n",
    "        results.append({\n",
    "            'group1': model_distribution.ix[1,'percent'],\n",
    "            'group2': model_distribution.ix[2,'percent'],\n",
    "            'group3': model_distribution.ix[3,'percent'],\n",
    "            'pay_costs': costs,\n",
    "            'percent': (costs / paybill) * 100\n",
    "        })\n",
    "        \n",
    "    return results"
   ]
  },
  {
   "cell_type": "code",
   "execution_count": 143,
   "metadata": {
    "collapsed": false
   },
   "outputs": [
    {
     "name": "stdout",
     "output_type": "stream",
     "text": [
      "CPU times: user 22.5 s, sys: 58.8 ms, total: 22.6 s\n",
      "Wall time: 22.6 s\n"
     ]
    }
   ],
   "source": [
    "%%time\n",
    "source_df = load_data(n_recs=110)\n",
    "output = run_simulation(source_df, option_df, N=500)"
   ]
  },
  {
   "cell_type": "code",
   "execution_count": 144,
   "metadata": {
    "collapsed": false
   },
   "outputs": [],
   "source": [
    "results_df = pd.DataFrame(output)\n",
    "results_df = results_df.round(2)"
   ]
  },
  {
   "cell_type": "code",
   "execution_count": 145,
   "metadata": {
    "collapsed": false
   },
   "outputs": [
    {
     "data": {
      "text/plain": [
       "group1            0.24814\n",
       "group2            0.65206\n",
       "group3            0.09934\n",
       "pay_costs    131613.50000\n",
       "percent           1.21272\n",
       "dtype: float64"
      ]
     },
     "execution_count": 145,
     "metadata": {},
     "output_type": "execute_result"
    }
   ],
   "source": [
    "results_df.mean()"
   ]
  },
  {
   "cell_type": "code",
   "execution_count": 146,
   "metadata": {
    "collapsed": false
   },
   "outputs": [
    {
     "data": {
      "text/html": [
       "<div>\n",
       "<table border=\"1\" class=\"dataframe\">\n",
       "  <thead>\n",
       "    <tr style=\"text-align: right;\">\n",
       "      <th></th>\n",
       "      <th>group1</th>\n",
       "      <th>group2</th>\n",
       "      <th>group3</th>\n",
       "      <th>pay_costs</th>\n",
       "      <th>percent</th>\n",
       "    </tr>\n",
       "  </thead>\n",
       "  <tbody>\n",
       "    <tr>\n",
       "      <th>55</th>\n",
       "      <td>0.28</td>\n",
       "      <td>0.65</td>\n",
       "      <td>0.07</td>\n",
       "      <td>132639.0</td>\n",
       "      <td>1.22</td>\n",
       "    </tr>\n",
       "    <tr>\n",
       "      <th>32</th>\n",
       "      <td>0.29</td>\n",
       "      <td>0.61</td>\n",
       "      <td>0.10</td>\n",
       "      <td>131889.0</td>\n",
       "      <td>1.22</td>\n",
       "    </tr>\n",
       "    <tr>\n",
       "      <th>198</th>\n",
       "      <td>0.18</td>\n",
       "      <td>0.71</td>\n",
       "      <td>0.11</td>\n",
       "      <td>130889.0</td>\n",
       "      <td>1.21</td>\n",
       "    </tr>\n",
       "    <tr>\n",
       "      <th>64</th>\n",
       "      <td>0.25</td>\n",
       "      <td>0.67</td>\n",
       "      <td>0.08</td>\n",
       "      <td>132389.0</td>\n",
       "      <td>1.22</td>\n",
       "    </tr>\n",
       "    <tr>\n",
       "      <th>212</th>\n",
       "      <td>0.25</td>\n",
       "      <td>0.68</td>\n",
       "      <td>0.06</td>\n",
       "      <td>132139.0</td>\n",
       "      <td>1.22</td>\n",
       "    </tr>\n",
       "    <tr>\n",
       "      <th>493</th>\n",
       "      <td>0.25</td>\n",
       "      <td>0.65</td>\n",
       "      <td>0.10</td>\n",
       "      <td>132639.0</td>\n",
       "      <td>1.22</td>\n",
       "    </tr>\n",
       "    <tr>\n",
       "      <th>78</th>\n",
       "      <td>0.28</td>\n",
       "      <td>0.59</td>\n",
       "      <td>0.13</td>\n",
       "      <td>130389.0</td>\n",
       "      <td>1.20</td>\n",
       "    </tr>\n",
       "    <tr>\n",
       "      <th>156</th>\n",
       "      <td>0.16</td>\n",
       "      <td>0.75</td>\n",
       "      <td>0.09</td>\n",
       "      <td>132889.0</td>\n",
       "      <td>1.22</td>\n",
       "    </tr>\n",
       "    <tr>\n",
       "      <th>420</th>\n",
       "      <td>0.26</td>\n",
       "      <td>0.59</td>\n",
       "      <td>0.15</td>\n",
       "      <td>127639.0</td>\n",
       "      <td>1.18</td>\n",
       "    </tr>\n",
       "    <tr>\n",
       "      <th>232</th>\n",
       "      <td>0.29</td>\n",
       "      <td>0.65</td>\n",
       "      <td>0.05</td>\n",
       "      <td>133889.0</td>\n",
       "      <td>1.23</td>\n",
       "    </tr>\n",
       "    <tr>\n",
       "      <th>191</th>\n",
       "      <td>0.21</td>\n",
       "      <td>0.70</td>\n",
       "      <td>0.09</td>\n",
       "      <td>132139.0</td>\n",
       "      <td>1.22</td>\n",
       "    </tr>\n",
       "    <tr>\n",
       "      <th>445</th>\n",
       "      <td>0.25</td>\n",
       "      <td>0.60</td>\n",
       "      <td>0.15</td>\n",
       "      <td>129889.0</td>\n",
       "      <td>1.20</td>\n",
       "    </tr>\n",
       "    <tr>\n",
       "      <th>107</th>\n",
       "      <td>0.35</td>\n",
       "      <td>0.55</td>\n",
       "      <td>0.09</td>\n",
       "      <td>131389.0</td>\n",
       "      <td>1.21</td>\n",
       "    </tr>\n",
       "    <tr>\n",
       "      <th>133</th>\n",
       "      <td>0.22</td>\n",
       "      <td>0.68</td>\n",
       "      <td>0.10</td>\n",
       "      <td>129639.0</td>\n",
       "      <td>1.19</td>\n",
       "    </tr>\n",
       "    <tr>\n",
       "      <th>43</th>\n",
       "      <td>0.20</td>\n",
       "      <td>0.66</td>\n",
       "      <td>0.14</td>\n",
       "      <td>130889.0</td>\n",
       "      <td>1.21</td>\n",
       "    </tr>\n",
       "  </tbody>\n",
       "</table>\n",
       "</div>"
      ],
      "text/plain": [
       "     group1  group2  group3  pay_costs  percent\n",
       "55     0.28    0.65    0.07   132639.0     1.22\n",
       "32     0.29    0.61    0.10   131889.0     1.22\n",
       "198    0.18    0.71    0.11   130889.0     1.21\n",
       "64     0.25    0.67    0.08   132389.0     1.22\n",
       "212    0.25    0.68    0.06   132139.0     1.22\n",
       "493    0.25    0.65    0.10   132639.0     1.22\n",
       "78     0.28    0.59    0.13   130389.0     1.20\n",
       "156    0.16    0.75    0.09   132889.0     1.22\n",
       "420    0.26    0.59    0.15   127639.0     1.18\n",
       "232    0.29    0.65    0.05   133889.0     1.23\n",
       "191    0.21    0.70    0.09   132139.0     1.22\n",
       "445    0.25    0.60    0.15   129889.0     1.20\n",
       "107    0.35    0.55    0.09   131389.0     1.21\n",
       "133    0.22    0.68    0.10   129639.0     1.19\n",
       "43     0.20    0.66    0.14   130889.0     1.21"
      ]
     },
     "execution_count": 146,
     "metadata": {},
     "output_type": "execute_result"
    }
   ],
   "source": [
    "results_df.sample(15)"
   ]
  },
  {
   "cell_type": "code",
   "execution_count": null,
   "metadata": {
    "collapsed": true
   },
   "outputs": [],
   "source": []
  }
 ],
 "metadata": {
  "kernelspec": {
   "display_name": "Python 3",
   "language": "python",
   "name": "python3"
  },
  "language_info": {
   "codemirror_mode": {
    "name": "ipython",
    "version": 3
   },
   "file_extension": ".py",
   "mimetype": "text/x-python",
   "name": "python",
   "nbconvert_exporter": "python",
   "pygments_lexer": "ipython3",
   "version": "3.6.1"
  }
 },
 "nbformat": 4,
 "nbformat_minor": 2
}
